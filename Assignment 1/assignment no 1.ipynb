{
 "cells": [
  {
   "cell_type": "markdown",
   "metadata": {},
   "source": [
    "Some instructions to note:\n",
    "- This assignment contains three parts\n",
    "    - numpy (15 questions) \n",
    "    - pandas (15 questions)\n",
    "-\n",
    "- write the code only in places indicated\n",
    "- assign answers to the variables named as question numbers (otherwise assignment won't be evaluated)\n",
    "- This assignment will be evaluated automatically, each question contains 1 mark\n",
    "    - each question will be evaluated based on the value of the variable assigned to it\n",
    "    - if the variable is not assigned, it will be considered as 0\n",
    "    - if the variable is assigned to a wrong value, it will be considered as 0\n",
    "    - if the variable is assigned to a correct value, it will be considered as 1"
   ]
  },
  {
   "cell_type": "code",
   "execution_count": 1,
   "metadata": {},
   "outputs": [],
   "source": [
    "# import libraries\n",
    "import pandas as pd\n",
    "import numpy as np"
   ]
  },
  {
   "cell_type": "markdown",
   "metadata": {},
   "source": [
    "### Numpy Basics (15 marks)"
   ]
  },
  {
   "cell_type": "code",
   "execution_count": 2,
   "metadata": {},
   "outputs": [
    {
     "name": "stdout",
     "output_type": "stream",
     "text": [
      "[0 1 2 3 4 5 6 7 8 9]\n"
     ]
    }
   ],
   "source": [
    "# 1. Create a 1D array of numbers from 0 to 9\n",
    "\n",
    "q1 = np.array([0, 1, 2, 3, 4,5,6,7,8,9])\n",
    "\n",
    "print(q1)"
   ]
  },
  {
   "cell_type": "code",
   "execution_count": 3,
   "metadata": {
    "scrolled": true
   },
   "outputs": [
    {
     "name": "stdout",
     "output_type": "stream",
     "text": [
      "[[ True  True  True]\n",
      " [ True  True  True]\n",
      " [ True  True  True]]\n"
     ]
    }
   ],
   "source": [
    "# 2. Create a 3×3 numpy array of all True’s (~1 line)\n",
    "\n",
    "q2 = np.ones((3,3), dtype=bool)\n",
    "\n",
    "print(q2)"
   ]
  },
  {
   "cell_type": "code",
   "execution_count": 4,
   "metadata": {
    "scrolled": true
   },
   "outputs": [
    {
     "name": "stdout",
     "output_type": "stream",
     "text": [
      "[1, 3, 5, 7, 9]\n"
     ]
    }
   ],
   "source": [
    "# 3. Given an array as input, print only odd numbers as output (~2 lines)\n",
    "\n",
    "a = np.arange(10)\n",
    "q3 =  [num for num in a\n",
    "       if num % 2 == 1]\n",
    "\n",
    "print(q3)"
   ]
  },
  {
   "cell_type": "code",
   "execution_count": 5,
   "metadata": {},
   "outputs": [
    {
     "name": "stdout",
     "output_type": "stream",
     "text": [
      "[[0 1 2 3 4]\n",
      " [5 6 7 8 9]]\n"
     ]
    }
   ],
   "source": [
    "# 4. Convert a 1D array to a 2D array with 2 rows (~1 line)\n",
    "\n",
    "e = np.arange(10)\n",
    "q4 =np.reshape(e, (2, -1))\n",
    "\n",
    "print(q4)"
   ]
  },
  {
   "cell_type": "code",
   "execution_count": 6,
   "metadata": {},
   "outputs": [
    {
     "name": "stdout",
     "output_type": "stream",
     "text": [
      "[[0 1 2 3 4]\n",
      " [5 6 7 8 9]\n",
      " [1 1 1 1 1]\n",
      " [1 1 1 1 1]]\n"
     ]
    }
   ],
   "source": [
    "# 5. How to stack two arrays vertically? (~1 line)\n",
    "\n",
    "a = np.arange(10).reshape(2,-1)\n",
    "b = np.repeat(1, 10).reshape(2,-1)\n",
    "q5 = np.vstack((a,b))\n",
    "\n",
    "print(q5)"
   ]
  },
  {
   "cell_type": "code",
   "execution_count": 7,
   "metadata": {},
   "outputs": [
    {
     "name": "stdout",
     "output_type": "stream",
     "text": [
      "[1 1 1 2 2 2 3 3 3 1 2 3 1 2 3 1 2 3]\n"
     ]
    }
   ],
   "source": [
    "# 6. How to generate custom sequences in numpy without hardcoding? (~1 line)\n",
    "# sequence: [1, 1, 1, 2, 2, 2, 3, 3, 3, 1, 2, 3, 1, 2, 3, 1, 2, 3]\n",
    "\n",
    "a = np.array([1,2,3])\n",
    "q6 = np.r_[np.repeat(a,3),np.tile(a,3)]\n",
    "\n",
    "print(q6)"
   ]
  },
  {
   "cell_type": "code",
   "execution_count": 8,
   "metadata": {},
   "outputs": [
    {
     "name": "stdout",
     "output_type": "stream",
     "text": [
      "[2 4]\n"
     ]
    }
   ],
   "source": [
    "# 7. Get the common items between a and b (~1 line)\n",
    "\n",
    "a = np.array([1,2,3,2,3,4,3,4,5,6])\n",
    "b = np.array([7,2,10,2,7,4,9,4,9,8])\n",
    "q7 =np.intersect1d(a,b)\n",
    "\n",
    "print(q7)"
   ]
  },
  {
   "cell_type": "code",
   "execution_count": 9,
   "metadata": {},
   "outputs": [
    {
     "name": "stdout",
     "output_type": "stream",
     "text": [
      "[1 2 3 4]\n"
     ]
    }
   ],
   "source": [
    "# 8. From array a remove all items present in array b (~1 line)\n",
    "\n",
    "a = np.array([1,2,3,4,5])\n",
    "b = np.array([5,6,7,8,9])\n",
    "q8 =np.setdiff1d(a,b)\n",
    "\n",
    "print(q8)"
   ]
  },
  {
   "cell_type": "code",
   "execution_count": 10,
   "metadata": {},
   "outputs": [
    {
     "name": "stdout",
     "output_type": "stream",
     "text": [
      "[ 6  9 10]\n"
     ]
    }
   ],
   "source": [
    "# 9. Get all items between 5 and 10 from given array (~1 line)\n",
    "\n",
    "a = np.array([2, 6, 1, 9, 10, 3, 27])\n",
    "q9 =a[(a >= 5) & (a <= 10)]\n",
    "\n",
    "print(q9)"
   ]
  },
  {
   "cell_type": "code",
   "execution_count": 11,
   "metadata": {},
   "outputs": [],
   "source": [
    "# 10. Convert the function maxx that works on two scalars, to work on two arrays. (~1 line)\n",
    "\n",
    "def maxx(x, y):\n",
    "    \"\"\"Get the maximum of two items\"\"\"\n",
    "    if x >= y:\n",
    "        return x\n",
    "    else:\n",
    "        return y\n",
    "    \n",
    "maxx(1, 5)\n",
    "max = np.vectorize(maxx, otypes=[float])\n",
    "a = np.array([5, 7, 9, 8, 6, 4, 5])\n",
    "b = np.array([6, 3, 4, 8, 9, 7, 1])\n",
    "q10 = max(a, b)"
   ]
  },
  {
   "cell_type": "code",
   "execution_count": 12,
   "metadata": {},
   "outputs": [
    {
     "name": "stdout",
     "output_type": "stream",
     "text": [
      "[[1 0 2]\n",
      " [4 3 5]\n",
      " [7 6 8]]\n"
     ]
    }
   ],
   "source": [
    "# 11. Swap columns 1 and 2 in the array arr. (~1 line)\n",
    "\n",
    "q11 = np.arange(9).reshape(3,3)\n",
    "q11 = q11[:,[1,0,2]]\n",
    "\n",
    "print(q11)"
   ]
  },
  {
   "cell_type": "code",
   "execution_count": 13,
   "metadata": {},
   "outputs": [
    {
     "name": "stdout",
     "output_type": "stream",
     "text": [
      "[[3 4 5]\n",
      " [0 1 2]\n",
      " [6 7 8]]\n"
     ]
    }
   ],
   "source": [
    "# 12. Swap rows 1 and 2 in the array arr (~1 line)\n",
    "\n",
    "q12 = np.arange(9).reshape(3,3)\n",
    "q12= q12[[1,0,2],:]\n",
    "\n",
    "print(q12)"
   ]
  },
  {
   "cell_type": "code",
   "execution_count": 14,
   "metadata": {},
   "outputs": [
    {
     "name": "stdout",
     "output_type": "stream",
     "text": [
      "[[6 7 8]\n",
      " [3 4 5]\n",
      " [0 1 2]]\n"
     ]
    }
   ],
   "source": [
    "# 13. Reverse the rows of a 2D array arr (~1 line)\n",
    "\n",
    "arr = np.arange(9).reshape(3,3)\n",
    "q13 = arr[::-1]\n",
    "print(q13)"
   ]
  },
  {
   "cell_type": "code",
   "execution_count": 15,
   "metadata": {},
   "outputs": [
    {
     "name": "stdout",
     "output_type": "stream",
     "text": [
      "[[2 1 0]\n",
      " [5 4 3]\n",
      " [8 7 6]]\n"
     ]
    }
   ],
   "source": [
    "# 14. Reverse the columns of a 2D array arr (~1 line)\n",
    "\n",
    "arr = np.arange(9).reshape(3,3)\n",
    "q14 = arr[:,::-1]\n",
    "\n",
    "print(q14)"
   ]
  },
  {
   "cell_type": "code",
   "execution_count": 16,
   "metadata": {},
   "outputs": [
    {
     "name": "stdout",
     "output_type": "stream",
     "text": [
      "[ 0  1  2 ... 12 13 14]\n"
     ]
    }
   ],
   "source": [
    "# 15. Limit the number of items printed in python numpy array a to a maximum of 6 elements. (~1 line)\n",
    "\n",
    "q15 = np.arange(15)\n",
    "# code here\n",
    "np.set_printoptions(threshold=6)\n",
    "print(q15)"
   ]
  },
  {
   "cell_type": "markdown",
   "metadata": {},
   "source": [
    "### Pandas Basics (15 marks)"
   ]
  },
  {
   "cell_type": "markdown",
   "metadata": {},
   "source": [
    "**Note:** Each question should use the original imported dataframe. \n",
    "**Do not modify the original dataframe.**"
   ]
  },
  {
   "cell_type": "code",
   "execution_count": 17,
   "metadata": {},
   "outputs": [],
   "source": [
    "# 1. Read dataframe from file 'data.csv', (no index) into a variable called q1 (~1 line)\n",
    "q16 = pd.read_csv('data.csv')"
   ]
  },
  {
   "cell_type": "code",
   "execution_count": 18,
   "metadata": {},
   "outputs": [],
   "source": [
    "# 2. Return the first 3 rows of the DataFrame df.\n",
    "\n",
    "q17 = q16.head(3)"
   ]
  },
  {
   "cell_type": "code",
   "execution_count": 19,
   "metadata": {},
   "outputs": [],
   "source": [
    "# 3. Select just the 'name' and 'age' columns from the DataFrame df. (~1 line)\n",
    "\n",
    "q18 = q16[['name','age']]"
   ]
  },
  {
   "cell_type": "code",
   "execution_count": 20,
   "metadata": {},
   "outputs": [],
   "source": [
    "# 4. Select the data in rows [3, 4, 8] and in columns ['name', 'age', 'number_of_pets']. (~1 line)\n",
    "\n",
    "q19 = q16.iloc[[3,4,8], [1,2,3]]"
   ]
  },
  {
   "cell_type": "code",
   "execution_count": 21,
   "metadata": {},
   "outputs": [],
   "source": [
    "# 5. Select only the rows where the number of pets is greater than 3. (~1 line)\n",
    "\n",
    "q20 = q16[q16['number_of_pets'] > 3]"
   ]
  },
  {
   "cell_type": "code",
   "execution_count": 22,
   "metadata": {},
   "outputs": [],
   "source": [
    "# 6. Select the rows where the age is missing, i.e. it is NaN. (~1 line)\n",
    "\n",
    "q21 = q16[q16['age'].isnull()]"
   ]
  },
  {
   "cell_type": "code",
   "execution_count": 23,
   "metadata": {},
   "outputs": [],
   "source": [
    "# 7. Select the rows where the student name is not Dan or Alice. (~1 line)\n",
    "\n",
    "q22 = q16.loc[ (q16['name'] !='Dan') & (q16['name'] !='Alice')]"
   ]
  },
  {
   "cell_type": "code",
   "execution_count": 24,
   "metadata": {},
   "outputs": [],
   "source": [
    "# 8. Select the rows the age is between 30 and 50 (inclusive). (~1 line)\n",
    "\n",
    "q23 = q16[q16['age'].between(30,50)]"
   ]
  },
  {
   "cell_type": "code",
   "execution_count": 25,
   "metadata": {},
   "outputs": [],
   "source": [
    "# 9. Find the total age of all students. (~1 line)\n",
    "\n",
    "q24 = q16['age'].sum()"
   ]
  },
  {
   "cell_type": "code",
   "execution_count": 26,
   "metadata": {},
   "outputs": [],
   "source": [
    "# 10. Calculate the mean age of all students. (~1 line)\n",
    "\n",
    "q25 = q16['age'].mean()"
   ]
  },
  {
   "cell_type": "code",
   "execution_count": 27,
   "metadata": {},
   "outputs": [],
   "source": [
    "# 11. Count the number of students. (~1 line)\n",
    "\n",
    "q26 = len(q16)"
   ]
  },
  {
   "cell_type": "code",
   "execution_count": 28,
   "metadata": {},
   "outputs": [],
   "source": [
    "# 12. Sort the DataFrame first by the values in the 'age' in decending order, then by the value in the 'name' column in ascending order. (~1 line)\n",
    "\n",
    "q27= q16.sort_values(by=['age', 'name'], ascending=[False, True])"
   ]
  },
  {
   "cell_type": "code",
   "execution_count": 29,
   "metadata": {},
   "outputs": [],
   "source": [
    "# 13. Add a new column, 'course', that contains the value 'big data'. (~1 line)\n",
    "\n",
    "q28 = q16['course']= \"big data\""
   ]
  },
  {
   "cell_type": "code",
   "execution_count": 30,
   "metadata": {},
   "outputs": [],
   "source": [
    "# 14. Delete the 'number_of_pets' column from the DataFrame. (~1 line)\n",
    "\n",
    "q29 = q16.pop('number_of_pets')"
   ]
  },
  {
   "cell_type": "code",
   "execution_count": 31,
   "metadata": {},
   "outputs": [],
   "source": [
    "# 15. Delete the row where the age is missing. (~1 line)\n",
    "\n",
    "q30 = q16.dropna(how='any',subset=['age'])"
   ]
  },
  {
   "cell_type": "code",
   "execution_count": null,
   "metadata": {},
   "outputs": [],
   "source": []
  }
 ],
 "metadata": {
  "kernelspec": {
   "display_name": "Python 3 (ipykernel)",
   "language": "python",
   "name": "python3"
  },
  "language_info": {
   "codemirror_mode": {
    "name": "ipython",
    "version": 3
   },
   "file_extension": ".py",
   "mimetype": "text/x-python",
   "name": "python",
   "nbconvert_exporter": "python",
   "pygments_lexer": "ipython3",
   "version": "3.9.13"
  },
  "vscode": {
   "interpreter": {
    "hash": "e40199dda8da9b508830e9cbab01b6adfc3e007bf238c8282f0c8d3ce75622cc"
   }
  }
 },
 "nbformat": 4,
 "nbformat_minor": 2
}
